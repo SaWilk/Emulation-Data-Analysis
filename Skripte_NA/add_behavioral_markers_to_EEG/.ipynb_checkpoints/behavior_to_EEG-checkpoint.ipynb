{
 "cells": [
  {
   "cell_type": "markdown",
   "metadata": {},
   "source": [
    "# output of new marker files\n",
    "\n",
    "## behavioral events for tasks A and B only:\n",
    "1. cursor direction change\n",
    "2. peak error\n",
    "\n",
    "## how to run:\n",
    "1. run all cells\n",
    "2. import the markers (keep old markers!!) in BVA (see history templates)\n",
    "3. for task B: separate conditions (i.e., occ./not occ.) with advanced boolean expressions"
   ]
  },
  {
   "cell_type": "code",
   "execution_count": 2,
   "metadata": {},
   "outputs": [],
   "source": [
    "%matplotlib notebook\n",
    "from functions import *"
   ]
  },
  {
   "cell_type": "code",
   "execution_count": 3,
   "metadata": {},
   "outputs": [
    {
     "name": "stderr",
     "output_type": "stream",
     "text": [
      "R:\\AG-Beste-Studien\\Tracking Task\\add_behavioral_markers_to_EEG\\functions.py:80: ParserWarning: Falling back to the 'python' engine because the 'c' engine does not support regex separators (separators > 1 char and different from '\\s+' are interpreted as regex); you can avoid this warning by specifying engine='python'.\n",
      "  return pd.read_csv(folder_marker/fname, skiprows=2, header=None, delimiter=\", \")\n"
     ]
    },
    {
     "name": "stdout",
     "output_type": "stream",
     "text": [
      "list index out of range\n",
      "skipping Pilot8_C\n",
      "list index out of range\n",
      "skipping Pilot9_C\n",
      "list index out of range\n",
      "skipping Pilot10_C\n"
     ]
    }
   ],
   "source": [
    "for sbj_ind in range(8,11):\n",
    "    for task in [\"A\",\"B\",\"C\"]:\n",
    "        try:\n",
    "            behavioral_events_to_EEG(sbj_ind, task, debug=True)\n",
    "        except Exception as e:\n",
    "            print(e)\n",
    "            print(f\"skipping Pilot{sbj_ind}_{task}\")\n",
    "            continue"
   ]
  }
 ],
 "metadata": {
  "kernelspec": {
   "display_name": "Python 3",
   "language": "python",
   "name": "python3"
  },
  "language_info": {
   "codemirror_mode": {
    "name": "ipython",
    "version": 3
   },
   "file_extension": ".py",
   "mimetype": "text/x-python",
   "name": "python",
   "nbconvert_exporter": "python",
   "pygments_lexer": "ipython3",
   "version": "3.8.3"
  },
  "varInspector": {
   "cols": {
    "lenName": 16,
    "lenType": 16,
    "lenVar": 40
   },
   "kernels_config": {
    "python": {
     "delete_cmd_postfix": "",
     "delete_cmd_prefix": "del ",
     "library": "var_list.py",
     "varRefreshCmd": "print(var_dic_list())"
    },
    "r": {
     "delete_cmd_postfix": ") ",
     "delete_cmd_prefix": "rm(",
     "library": "var_list.r",
     "varRefreshCmd": "cat(var_dic_list()) "
    }
   },
   "position": {
    "height": "492.85px",
    "left": "1534px",
    "right": "20px",
    "top": "181px",
    "width": "340px"
   },
   "types_to_exclude": [
    "module",
    "function",
    "builtin_function_or_method",
    "instance",
    "_Feature"
   ],
   "window_display": true
  }
 },
 "nbformat": 4,
 "nbformat_minor": 5
}
