{
 "cells": [
  {
   "cell_type": "markdown",
   "metadata": {},
   "source": [
    "goal:\n",
    "- read in the vmrk files and export a .Markers file with the last marker and correct duration"
   ]
  },
  {
   "cell_type": "code",
   "execution_count": 3,
   "metadata": {},
   "outputs": [],
   "source": [
    "import os\n",
    "from pathlib import Path"
   ]
  },
  {
   "cell_type": "code",
   "execution_count": 18,
   "metadata": {},
   "outputs": [],
   "source": [
    "path_vmrk = Path(r\"R:\\AG-Beste-Studien\\Emulation\\05_automagic\\Analyzer\\raw\")\n",
    "path_new_marker = Path(r\"R:\\AG-Beste-Studien\\Emulation\\05_automagic\\Analyzer\\new_markers\")"
   ]
  },
  {
   "cell_type": "code",
   "execution_count": 6,
   "metadata": {},
   "outputs": [],
   "source": [
    "# for now, only for A\n",
    "all_vmrk = [f for f in os.listdir(path_vmrk) if f.endswith(\"_A.vmrk\")]"
   ]
  },
  {
   "cell_type": "code",
   "execution_count": 24,
   "metadata": {},
   "outputs": [
    {
     "ename": "SyntaxError",
     "evalue": "invalid syntax (<ipython-input-24-2d7fc9c13059>, line 10)",
     "output_type": "error",
     "traceback": [
      "\u001b[1;36m  File \u001b[1;32m\"<ipython-input-24-2d7fc9c13059>\"\u001b[1;36m, line \u001b[1;32m10\u001b[0m\n\u001b[1;33m    f = open(path_new_marker/f\"{vmrk_f.split(\".vmrk\")[0]}_last_trigger.txt\", \"w\")\u001b[0m\n\u001b[1;37m                                                   ^\u001b[0m\n\u001b[1;31mSyntaxError\u001b[0m\u001b[1;31m:\u001b[0m invalid syntax\n"
     ]
    }
   ],
   "source": [
    "def write_new_last_trigger(vmrk_f):\n",
    "    f = open(path_vmrk/vmrk_f, \"r\")\n",
    "    ll = f.readlines()\n",
    "    i = -1\n",
    "    while \"Bad Interval\" in ll[i]:\n",
    "        i -= 1\n",
    "    last_sample = int(ll[i].split(\",\")[2])\n",
    "\n",
    "    # write to new file\n",
    "    f = open(path_new_marker/f\"{vmrk_f.split('.vmrk')[0]}_last_trigger.txt\", \"w\")\n",
    "    f.write(\"Sampling rate: 256Hz, SamplingInterval: 3.90625ms\\n\")\n",
    "    f.write(\"Type, Description, Position, Length, Channel\\n\")\n",
    "    f.write(f\"Stimulus, S 12, {last_sample - 20}, 1, All\")\n",
    "    f.close()"
   ]
  },
  {
   "cell_type": "code",
   "execution_count": 23,
   "metadata": {},
   "outputs": [],
   "source": [
    "for vmrk_f in all_vmrk:\n",
    "    write_new_last_trigger(vmrk_f)"
   ]
  }
 ],
 "metadata": {
  "kernelspec": {
   "display_name": "Python 3",
   "language": "python",
   "name": "python3"
  },
  "language_info": {
   "codemirror_mode": {
    "name": "ipython",
    "version": 3
   },
   "file_extension": ".py",
   "mimetype": "text/x-python",
   "name": "python",
   "nbconvert_exporter": "python",
   "pygments_lexer": "ipython3",
   "version": "3.8.3"
  },
  "varInspector": {
   "cols": {
    "lenName": 16,
    "lenType": 16,
    "lenVar": 40
   },
   "kernels_config": {
    "python": {
     "delete_cmd_postfix": "",
     "delete_cmd_prefix": "del ",
     "library": "var_list.py",
     "varRefreshCmd": "print(var_dic_list())"
    },
    "r": {
     "delete_cmd_postfix": ") ",
     "delete_cmd_prefix": "rm(",
     "library": "var_list.r",
     "varRefreshCmd": "cat(var_dic_list()) "
    }
   },
   "types_to_exclude": [
    "module",
    "function",
    "builtin_function_or_method",
    "instance",
    "_Feature"
   ],
   "window_display": true
  }
 },
 "nbformat": 4,
 "nbformat_minor": 5
}
